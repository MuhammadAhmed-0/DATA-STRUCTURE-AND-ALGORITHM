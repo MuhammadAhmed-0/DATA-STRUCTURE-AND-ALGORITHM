{
  "nbformat": 4,
  "nbformat_minor": 0,
  "metadata": {
    "colab": {
      "name": "DSA Assignment1.ipynb",
      "provenance": [],
      "collapsed_sections": []
    },
    "kernelspec": {
      "name": "python3",
      "display_name": "Python 3"
    },
    "language_info": {
      "name": "python"
    }
  },
  "cells": [
    {
      "cell_type": "markdown",
      "metadata": {
        "id": "Qez9BTVigw5i"
      },
      "source": [
        "**R-6.1 What values are returned during the following series of stack operations,if executed upon an initially empty stack? push(5), push(3), pop(), push(2), push(8), pop(), pop(), push(9), push(1), pop(), push(7), push(6), pop(),pop(), push(4), pop(), pop().**"
      ]
    },
    {
      "cell_type": "code",
      "metadata": {
        "colab": {
          "base_uri": "https://localhost:8080/"
        },
        "id": "Unk-4IWBqpBC",
        "outputId": "506c3aa1-4998-4b84-c0d2-e60b60a21d95"
      },
      "source": [
        "\n",
        "#Empty Stack\n",
        "stack = []            \n",
        "stack.append(5)       #[5]\n",
        "stack.append(3)       #[5,3]\n",
        "stack.pop()           #[5]\n",
        "stack.append(2)       #[5,2]\n",
        "stack.append(8)       #[5,2,8]\n",
        "stack.pop()           #[5,2]\n",
        "stack.pop()           #[5]\n",
        "stack.append(9)       #[5,9]\n",
        "stack.append(1)       #[5,9,1]\n",
        "stack.pop()           #[5,9]\n",
        "stack.append(7)       #[5,9,7]\n",
        "stack.append(6)       #[5,9,7,6]\n",
        "stack.pop()           #[5,9,7]\n",
        "stack.pop()           #[5,9]\n",
        "stack.append(4)       #[5,9,4]\n",
        "stack.pop()           #[5,9]\n",
        "stack.pop()           #[5]\n",
        "print(stack)          #5 is final answer"
      ],
      "execution_count": null,
      "outputs": [
        {
          "output_type": "stream",
          "name": "stdout",
          "text": [
            "[5]\n"
          ]
        }
      ]
    },
    {
      "cell_type": "markdown",
      "metadata": {
        "id": "vaiAdH_uUrem"
      },
      "source": [
        "we have 9 pushes and 8 pops, so we have one value left in the stack which is 5"
      ]
    },
    {
      "cell_type": "markdown",
      "metadata": {
        "id": "o6-C_iQTzsZH"
      },
      "source": [
        "**R-6.2 Suppose an initially empty stack S has executed a total of 25 push** **operations**,\n",
        "**12 top operations,and 10 pop operations, 3 of which raised Empty**\n",
        "**errors that were caught and ignored. What is the current size of S**? \n",
        "\n",
        "Solution:\n",
        "\n",
        " Number of total PUSH operation = 25\n",
        " \n",
        " Total Number of POP Operation = 10\n",
        " \n",
        " Sucessful pop operation = 7\n",
        "\n",
        " Current size of S = 25-7 = 18\n",
        "                \n",
        "\n",
        "\n",
        "\n"
      ]
    },
    {
      "cell_type": "markdown",
      "metadata": {
        "id": "PcDS1mM1mcBu"
      },
      "source": [
        "**R-6.3 Implement a function with signature transfer(S, T) that transfers all elements\n",
        "from stack S onto stack T, so that the element that starts at the top\n",
        "of S is the first to be inserted onto T, and the element at the bottom of S\n",
        "ends up at the top of T.**"
      ]
    },
    {
      "cell_type": "code",
      "metadata": {
        "id": "ojDWb2mCmsd2"
      },
      "source": [
        "def transfer(S,T):\n",
        "  S = []\n",
        "  T = []\n",
        "  for i in S:\n",
        "     S.append(i)\n",
        "     print(S)\n",
        "\n",
        "transfer(S,T)\n",
        "S.append(1)\n",
        "S.append(2)\n",
        "T.append(S.pop())\n",
        "print(T)"
      ],
      "execution_count": null,
      "outputs": []
    },
    {
      "cell_type": "markdown",
      "metadata": {
        "id": "K0Z0UXj7Y0x6"
      },
      "source": [
        " **R-6.4: Give a recursive method for removing all the elements from a stack**"
      ]
    },
    {
      "cell_type": "code",
      "metadata": {
        "colab": {
          "base_uri": "https://localhost:8080/"
        },
        "id": "Z6SlBrKxY7Cl",
        "outputId": "5460df52-db1c-4eb8-90b5-a635158e7518"
      },
      "source": [
        "s = []\n",
        "for x in range(10):\n",
        " s.append(x)\n",
        " s.pop()\n",
        "print(s)"
      ],
      "execution_count": null,
      "outputs": [
        {
          "output_type": "stream",
          "name": "stdout",
          "text": [
            "[]\n"
          ]
        }
      ]
    },
    {
      "cell_type": "markdown",
      "metadata": {
        "id": "2OaogNx_hBqo"
      },
      "source": [
        "**R-6.5: Implement a function that reverses a list of elements by pushing them onto a stack in one order, and writing them back to the list in reversed order**"
      ]
    },
    {
      "cell_type": "code",
      "metadata": {
        "colab": {
          "base_uri": "https://localhost:8080/"
        },
        "id": "71p22pEpsDGd",
        "outputId": "93899fd7-5ba1-4412-fba6-e227a7348b19"
      },
      "source": [
        "def revers():\n",
        "    stack =[]\n",
        "    \n",
        "user = input(\"Enter a string\")\n",
        "for x in user:   \n",
        "  stack.append(x)\n",
        "print(stack)\n",
        "\n",
        "a = []\n",
        "while len(stack)!=0:\n",
        "  a.append((stack.pop()))\n",
        "\n",
        "\n",
        "revers()\n",
        "print(a)\n",
        "\n",
        "    "
      ],
      "execution_count": null,
      "outputs": [
        {
          "output_type": "stream",
          "name": "stdout",
          "text": [
            "Enter a stringahmed\n",
            "['a', 'h', 'm', 'e', 'd']\n",
            "['d', 'e', 'm', 'h', 'a']\n"
          ]
        }
      ]
    },
    {
      "cell_type": "markdown",
      "metadata": {
        "id": "AR7zGoX95g1d"
      },
      "source": [
        "**R-6.6: Give a precise and complete definition of the concept of matching for\n",
        "grouping symbols in an arithmetic expression. Your definition may be recursive.**"
      ]
    },
    {
      "cell_type": "code",
      "metadata": {
        "colab": {
          "base_uri": "https://localhost:8080/"
        },
        "id": "vKpNh2B7zNuf",
        "outputId": "43e91ceb-f03f-4d15-a156-61d7f2e02d84"
      },
      "source": [
        "def exp():\n",
        " stack=[]\n",
        "Exp = input(\"Please Enter any Expression\")\n",
        "count=0\n",
        "for i in Exp:\n",
        "   if (i=='(' or i=='{' or i=='['):\n",
        "       stack.append(i)\n",
        "       count += count\n",
        "   elif (i==')' or i=='}' or i==']'):\n",
        "        stack.pop()\n",
        "        count-=count         \n",
        "if len(stack)==0:\n",
        " print (\"Balanced parenthesis \")\n",
        "else:\n",
        "    print (\"Not Balanced parenthesis \")\n",
        "\n",
        "exp()\n",
        "print (stack)\n",
        "\n"
      ],
      "execution_count": null,
      "outputs": [
        {
          "output_type": "stream",
          "name": "stdout",
          "text": [
            "Please Enter any Expression(())\n",
            "Balanced parenthesis \n",
            "[]\n"
          ]
        }
      ]
    },
    {
      "cell_type": "markdown",
      "metadata": {
        "id": "Dc0VDlLV8KaB"
      },
      "source": [
        "**R-6.7: What values are returned during the following sequence of queue operations,\n",
        "if executed on an initially empty queue? enqueue(5), enqueue(3),\n",
        "dequeue(), enqueue(2), enqueue(8), dequeue(), dequeue(), enqueue(9),\n",
        "enqueue(1), dequeue(), enqueue(7), enqueue(6), dequeue(), dequeue(),enqueue(4), dequeue(), dequeue().**"
      ]
    },
    {
      "cell_type": "code",
      "metadata": {
        "id": "lRgw31lg8HcQ"
      },
      "source": [
        "# line by line Explanation \n",
        "# Make empty queue\n",
        "queue = []        #values in the stack  \n",
        "queue.append(5)   # [5]  \n",
        "queue.append(3)   # [5,3]\n",
        "# queue follow FIFO method So when we apply pop operation then 1st element will be deleted first i mean 5 is deleted first\n",
        "queue.pop()       # [3]\n",
        "queue.append(2)   # [3,2]    add 2\n",
        "queue.append(8)   #[3,2,8]      add 8\n",
        "queue.pop()       #[2,8]      remove 3\n",
        "queue.pop()       #[8]    remove 2\n",
        "queue.append(9)   #[8,9]  add 9\n",
        "queue.append(1)   #[8,9,1] add 1\n",
        "queue.pop()       #[9,1]    remove 8\n",
        "queue.append(7)   #[9,1,7]   add 7\n",
        "queue.append(6)   #[9,1,7,6]   add 6\n",
        "queue.pop()       #[1,7,6]     remove 9\n",
        "queue.pop()       #[7,6]       remove 1\n",
        "queue.append(4)   #[7,6,4]     add 4\n",
        "queue.pop()       #[6,4]       remove 7\n",
        "queue.pop()       #[4]         remove 6\n",
        "\n",
        "# our final Answer is [4].\n"
      ],
      "execution_count": null,
      "outputs": []
    },
    {
      "cell_type": "markdown",
      "metadata": {
        "id": "MqktFiz8C9wM"
      },
      "source": [
        "**R-6.8: Suppose an initially empty queue Q has executed a total of 32 enqueue\n",
        "operations, 10 first operations, and 15 dequeue operations, 5 of which\n",
        "raised Empty errors that were caught and ignored. What is the current\n",
        "size of Q?**\n",
        "\n",
        "**Solution:**\n",
        "        \n",
        "        queue Q has executed a total of enqueue = 32\n",
        "        \n",
        "        dequeue operations = 15\n",
        "       \n",
        "       dequeue errors = 5\n",
        "       \n",
        "       sucessful dequeue operation = 15-5 = 10\n",
        "       \n",
        "       current size of Q = 32 - 10 = 22\n"
      ]
    },
    {
      "cell_type": "markdown",
      "metadata": {
        "id": "4LDoB41OvyGF"
      },
      "source": [
        "**R-6.9: Had the queue of the previous problem been an instance of ArrayQueue\n",
        "that used an initial array of capacity 30, and had its size never been greater\n",
        "than 30, what would be the final value of the front instance variable?**\n",
        "\n",
        "Solution:\n",
        "\n",
        "        sucessful deque operation in perivous problem = 15-5 = 10\n",
        "Initially an empty queue, we will assume the front value was initially 0\n",
        "self._front only increments when a dequeue takes place so the final value would be 10 ahead of its initial value,  or self._front == 10 is self._front was initially 0 as assumed. So, \n",
        "                \n",
        "                \n",
        "                (10+initial) % 30\n",
        "\n"
      ]
    },
    {
      "cell_type": "markdown",
      "metadata": {
        "id": "ZHijRoHrwzV7"
      },
      "source": [
        "**R-6.10 : Consider what happens if the loop in the ArrayQueue. resize method at\n",
        "lines 53–55 of Code Fragment 6.7 had been implemented as:\n",
        "for k in range(self. size):\n",
        "self. data[k] = old[k] # rather than old[walk]\n",
        "Give a clear explanation of what could go wrong.**\n",
        "\n",
        "\n",
        " "
      ]
    },
    {
      "cell_type": "code",
      "metadata": {
        "id": "ygQikeHE2ZcF"
      },
      "source": [
        "def enqueue(self, e):\n",
        " #Add an element to the back of queue.”””\n",
        " if self. size == len(self. data):\n",
        "    self. resize(2* len(self.data)) # double the array size\n",
        "    avail = (self. front + self. size) % len(self. data)\n",
        "    self. data[avail] = e\n",
        "    self. size += 1\n",
        "\n",
        " def resize(self, cap): # we assume cap >= len(self)\n",
        " #”””Resize to a new list of capacity >= len(self).”””\n",
        "   old = self. data # keep track of existing list\n",
        "   self. data = [None]*cap # allocate list with new capacity\n",
        "   walk = self. front\n",
        "   for k in range(self. size):\n",
        "     self. data[k] = old[k] # rather than old[walk]\n",
        "     self. front = 0"
      ],
      "execution_count": null,
      "outputs": []
    },
    {
      "cell_type": "markdown",
      "metadata": {
        "id": "efWvnYa_2cff"
      },
      "source": [
        "For example:\n",
        "\n",
        " A queue is 1,2,3,4,5,6,7 with front = 3:\n",
        " \n",
        " \n",
        " then     F is \n",
        "5,6,7,1,2,3,4\n",
        "\n",
        "would become:\n",
        "      F   is\n",
        "5,6,7,1,2,3,4,N,N,N,N,N,N,N\n",
        "\n",
        "he next insertion would be at front + self._size, which would be\n",
        "\n",
        "5,6,7,1,2,3,4,N,N,N,8,N,N,N and so on\n",
        "\n",
        "the walk assures that the data will stay both in order and in direct sequence, producing:\n",
        "\n",
        "F\n",
        "1,2,3,4,5,6,7,N,N,N,N,N,N,N"
      ]
    },
    {
      "cell_type": "markdown",
      "metadata": {
        "id": "jb6rtIqB4ZPL"
      },
      "source": [
        "**R-6.11 Give a simple adapter that implements our queue ADT while using a\n",
        "collections.deque instance for storage.**"
      ]
    },
    {
      "cell_type": "code",
      "metadata": {
        "colab": {
          "base_uri": "https://localhost:8080/"
        },
        "id": "GsP18bSf4luQ",
        "outputId": "211d4233-4659-4cf1-9c78-07136359c408"
      },
      "source": [
        "from collections import deque\n",
        "class Queue():\n",
        "  def __init__(self):\n",
        "    self.data = deque()\n",
        "    self.size= 0\n",
        "  def  len(self):\n",
        "    return self.size\n",
        "  def  front(self):\n",
        "    return self.data[0]\n",
        "  def enqueue(self, value):\n",
        "    self.size +=1\n",
        "    self.data.append(value)\n",
        "  def is_empty(self):\n",
        "    return self.size==0\n",
        "  def dequeue(self):\n",
        "    if self.is_empty():\n",
        "      return ('Queue is empty')\n",
        "    else:\n",
        "            a = self.data.popleft()\n",
        "            self.size -= 1\n",
        "            return a\n",
        "   \n",
        "\n",
        "d = Queue()\n",
        "\n",
        "for i in range(5):\n",
        "    d.enqueue(i)\n",
        "print(\"Front element is\", d.front() )\n",
        "print(\"Lenght of element is \", d.len())\n",
        "while not d.is_empty():\n",
        "    print( d.dequeue())\n",
        "\n",
        "\n",
        "\n",
        "\n",
        "\n",
        "\n",
        "\n",
        "\n",
        "\n",
        "\n",
        "\n"
      ],
      "execution_count": null,
      "outputs": [
        {
          "output_type": "stream",
          "name": "stdout",
          "text": [
            "Front element is 0\n",
            "Lenght of element is  5\n",
            "0\n",
            "1\n",
            "2\n",
            "3\n",
            "4\n"
          ]
        }
      ]
    },
    {
      "cell_type": "markdown",
      "metadata": {
        "id": "SLUoIXXDHXuT"
      },
      "source": [
        "**R-6.12 What values are returned during the following sequence of deque ADT operations,\n",
        "on initially empty deque? add first(4), add last(8), add last(9),\n",
        "add first(5), back(), delete first( ), delete last( ), add last(7), first( ),\n",
        "last( ), add last(6), delete first( ), delete first( ).**"
      ]
    },
    {
      "cell_type": "markdown",
      "metadata": {
        "id": "OOmi5ClTHy98"
      },
      "source": [
        "**Solution:**\n",
        "\n",
        "**Dry run program:**\n",
        "\n",
        "add_first(4)                        \n",
        "     [4]\n",
        "     \n",
        "add_last(8)  \n",
        "\n",
        "[4,8]\n",
        "\n",
        "add_last(9)  \n",
        "\n",
        "[4,8,9]\n",
        "\n",
        "add_first(5) \n",
        "\n",
        "[5,4,8,9]\n",
        "\n",
        "back()                \n",
        "9\n",
        "\n",
        "delete_first( )     \n",
        " [4,8,9]\n",
        "\n",
        "delete_last( )\n",
        "\n",
        "  [4,8]\n",
        "\n",
        "add_last(7)          \n",
        " \n",
        " [4,8,7]\n",
        "\n",
        "first( )             \n",
        " 4\n",
        "\n",
        "last( )              \n",
        " 7\n",
        "\n",
        "add last(6)         \n",
        "  [4,8,7,6]\n",
        "\n",
        "delete first( )      \n",
        " [8,7,6]\n",
        "\n",
        "delete first( )      \n",
        " [7,6]\n",
        "\n",
        "\n"
      ]
    },
    {
      "cell_type": "markdown",
      "metadata": {
        "id": "6JYxu7rMMxxl"
      },
      "source": [
        "**R-6.13: Suppose you have a deque D containing the numbers (1,2,3,4,5,6,7,8),\n",
        "in this order. Suppose further that you have an initially empty queue Q.\n",
        "Give a code fragment that uses only D and Q (and no other variables) and\n",
        "results in D storing the elements in the order (1,2,3,5,4,6,7,8).**"
      ]
    },
    {
      "cell_type": "code",
      "metadata": {
        "id": "C556PWijM4A-",
        "colab": {
          "base_uri": "https://localhost:8080/"
        },
        "outputId": "cfa76e59-3c19-48ed-b051-d5c2fb677e45"
      },
      "source": [
        "from collections import deque\n",
        "import queue\n",
        "#def rearrange(D,Q):\n",
        "D = deque()\n",
        "for i in D:\n",
        "       D.append(i)\n",
        "      \n",
        "q = queue.Queue()\n",
        "Q.append(D)\n",
        "if len(D)!=0:\n",
        "   D.pop(Q)\n",
        "#else:\n",
        " #  Q.append(D)\n",
        "\n",
        "D.append(1)\n",
        "D.append(2)\n",
        "D.append(3)\n",
        "D.append(4)\n",
        "D.append(5)\n",
        "D.append(6)\n",
        "D.append(7)\n",
        "D.append(8)\n",
        "print(\"value of Q is :\")\n",
        "print(\"value of D =\",D)\n",
        "  "
      ],
      "execution_count": null,
      "outputs": [
        {
          "output_type": "stream",
          "name": "stdout",
          "text": [
            "value of Q is :\n",
            "value of D = deque([1, 2, 3, 4, 5, 6, 7, 8])\n"
          ]
        }
      ]
    },
    {
      "cell_type": "markdown",
      "metadata": {
        "id": "tKMEieSgl89k"
      },
      "source": [
        "**R-6.14 Repeat the previous problem using the deque D and an initially empty\n",
        "stack S.**"
      ]
    },
    {
      "cell_type": "code",
      "metadata": {
        "colab": {
          "base_uri": "https://localhost:8080/"
        },
        "id": "Om1Ec7wUmAbQ",
        "outputId": "4e5ab010-6013-437c-ce0b-39d037a5fcb4"
      },
      "source": [
        "from collections import deque\n",
        "#def rearrange(D,Q):\n",
        "D = deque()\n",
        "for i in D:\n",
        "       D.append(i)\n",
        "      \n",
        "S = [] \n",
        "S.append(D)\n",
        "if len(D)!=0:\n",
        "   D.pop(S)\n",
        "\n",
        "\n",
        "D.append(1)\n",
        "D.append(2)\n",
        "D.append(3)\n",
        "D.append(4)\n",
        "D.append(5)\n",
        "D.append(6)\n",
        "D.append(7)\n",
        "D.append(8)\n",
        "print(\"value of S\")\n",
        "print(\"value of D =\",D)\n",
        "  "
      ],
      "execution_count": null,
      "outputs": [
        {
          "output_type": "stream",
          "name": "stdout",
          "text": [
            "value of S\n",
            "value of D = deque([1, 2, 3, 4, 5, 6, 7, 8])\n"
          ]
        }
      ]
    }
  ]
}